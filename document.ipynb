{
 "cells": [
  {
   "cell_type": "code",
   "execution_count": null,
   "id": "0e923134",
   "metadata": {},
   "outputs": [],
   "source": [
    "import numpy as np\n",
    "import holoviews as hv  \n",
    "hv.extension('bokeh', inline=False)"
   ]
  },
  {
   "cell_type": "code",
   "execution_count": null,
   "id": "8deda84c",
   "metadata": {},
   "outputs": [],
   "source": [
    "# from bokeh.plotting import figure, output_notebook\n",
    "# # Enable inline plotting for Jupyter Notebook\n",
    "# output_notebook()"
   ]
  },
  {
   "cell_type": "markdown",
   "id": "c0a633db",
   "metadata": {},
   "source": [
    "# 掃流砂量と川幅の関係について + 問題提起：流砂量式の関数形について"
   ]
  },
  {
   "cell_type": "markdown",
   "id": "1202438e",
   "metadata": {},
   "source": [
    "## モチベーション\n",
    "\n",
    "河道改修等によって川幅を広げると、流速および摩擦速度は小さくなる一方で掃流幅（掃流砂が流れる川幅）は大きくなります。\n",
    "その場合、掃流砂量がどのように変化するかが気になったため簡単な検証を行いました。\n"
   ]
  },
  {
   "cell_type": "markdown",
   "id": "da4488de",
   "metadata": {},
   "source": [
    "\n",
    "## 前提条件\n",
    "\n",
    "簡単のため、矩形近似断面による等流計算を用いた数値実験を行いました。\n",
    "\n",
    "まず、以下の4点の仮定を設定します。\n",
    "\n",
    "1. 流量は河道改修前後で変わらない\n",
    "1. 河床勾配は河道改修前後で変わらない\n",
    "1. 河床材料の粒径は河道改修前後で変わらない\n",
    "1. 河床抵抗係数（マニングの粗度係数）は河道改修前後で変わらない\n",
    "\n",
    "1点目は違和感はないと思いますが、それ以外は長期的には変化する可能性がありますので、今回の数値実験はあくまでも河道改修直後の変化をイメージしています。\n",
    "\n",
    "与条件としては、現況河道の川幅、水深および無次元掃流力（=0.06）を与えます。\n",
    "\n"
   ]
  },
  {
   "cell_type": "markdown",
   "id": "922bc79a",
   "metadata": {},
   "source": [
    "## 川幅～水深～無次元掃流力の関係\n",
    "\n",
    "### 式の導出\n",
    "\n",
    "前項の条件に基づき、河道改修前後で変化しない諸量を用いて以下の指標を設定します。\n",
    "\n",
    "$$\n",
    "\\begin{align}\n",
    "X &=  \\dfrac{d}{i_b} \\\\\n",
    "Y &=  \\dfrac{nQ}{\\sqrt{i_b}}\n",
    "\\end{align}\n",
    "$$\n",
    "\n",
    "これを用いると、無次元掃流力は次式で示されます。\n",
    "\n",
    "$$\n",
    "\\begin{align}\n",
    "\\tau_*=  \\dfrac{h i_b}{\\rho_{sw}d} = \\dfrac{h }{\\rho_{sw} X}\n",
    "\\end{align}\n",
    "$$\n",
    "\n",
    "ここで、無次元掃流力を砂礫の移動限界を考慮して0.05～0.5の範囲で与えたとすると、水深は次式で示すことができます。\n",
    "\n",
    "$$\n",
    "\\begin{align}\n",
    "h = \\tau_* \\rho_{sw} X\n",
    "\\end{align}\n",
    "$$\n",
    "\n",
    "一方、川幅はマニング則を用いると以下のようになります。\n",
    "\n",
    "$$\n",
    "\\begin{align}\n",
    "Q &= \\dfrac{1}{n}\\sqrt{i_b}h^{5/3}B \\\\\n",
    "B &=\\dfrac{nQ}{\\sqrt{i_b} h^{5/3}} = \\dfrac{Y}{h^{5/3}} = \\dfrac{Y}{(\\tau_* \\rho_{sw} X)^{5/3}}\n",
    "\n",
    "\n",
    "\\end{align}\n",
    "$$\n"
   ]
  },
  {
   "cell_type": "markdown",
   "id": "bff7dab3",
   "metadata": {},
   "source": [
    "### 計算手順\n",
    "\n",
    "\n",
    " - 与条件（現況河道の川幅、水深および無次元掃流力）より$X,Y$を計算する。\n",
    "\n",
    "$$\n",
    "\\begin{align}\n",
    "X &=  \\dfrac{d}{i_b} = \\dfrac{h }{\\rho_{sw} \\tau_*} \\\\\n",
    "Y &=  \\dfrac{nQ}{\\sqrt{i_b}} = h^{5/3}B\n",
    "\\end{align}\n",
    "$$\n",
    "\n",
    " - $X,Y$を用いて、無次元掃流力0.05～0.5の場合の水深、川幅を求める。"
   ]
  },
  {
   "cell_type": "markdown",
   "id": "d5f0ae1e",
   "metadata": {},
   "source": [
    "### 計算結果\n",
    "\n",
    "\n",
    "与条件は、以下の2ケースを設定します。\n",
    "\n",
    " - 現況川幅100m、水深3.0m\n",
    " - 現況川幅200m、水深7.0m\n",
    "\n",
    "以下のコードのとおり計算を行いました。"
   ]
  },
  {
   "cell_type": "code",
   "execution_count": null,
   "id": "1a71e8b1",
   "metadata": {},
   "outputs": [],
   "source": [
    "import numpy as np\n",
    "\n",
    "# parameters\n",
    "g = 9.8\n",
    "rhosw = 1.65 # grain specific gravity in water\n",
    "\n",
    "# conditions\n",
    "tss = 0.06\n",
    "hst = 3.0\n",
    "Bst = 100.0\n",
    "\n",
    "lts = np.linspace(0.05,0.5,50,endpoint=True)\n",
    "\n",
    "# case1\n",
    "hst = 3.0\n",
    "Bst = 100.0\n",
    "# 基準値より逆算\n",
    "diByib = hst/rhosw/tss\n",
    "nQBySqIb = hst**(5/3)*Bst\n",
    "\n",
    "lh = lts*rhosw*diByib\n",
    "lB = nQBySqIb/lh**(5/3)\n",
    "\n",
    "# case2\n",
    "hst = 7.0\n",
    "Bst = 200.0\n",
    "# 基準値より逆算\n",
    "diByib = hst/rhosw/tss\n",
    "nQBySqIb = hst**(5/3)*Bst\n",
    "\n",
    "lh2 = lts*rhosw*diByib\n",
    "lB2 = nQBySqIb/lh2**(5/3)"
   ]
  },
  {
   "cell_type": "markdown",
   "id": "bf7e89f8",
   "metadata": {},
   "source": [
    "計算結果より、\n",
    "無次元掃流力~川幅、\n",
    "無次元掃流力~水深、\n",
    "川幅~水深\n",
    "の関係を次図に示します。\n",
    "\n",
    " - 自明ですが、川幅の増加により水深は減少します。\n",
    " - 一方、無次元掃流力は川幅に対して負の相関、水深に対して正の相関を示してます。\n",
    " - また、与条件の差異による2ケースは、すべての関係で相似形を示しています。そのため、次項ではケース1のみを検討します。"
   ]
  },
  {
   "cell_type": "code",
   "execution_count": null,
   "id": "01d27f2f",
   "metadata": {},
   "outputs": [],
   "source": [
    "g1 = hv.Curve((lB, lts ), 'B', 'tau*', label='B=100,h=3')\n",
    "g12 = hv.Curve((lB2, lts ), 'B', 'tau*', label='B=200,h=7')\n",
    "g2 = hv.Curve((lh, lts ), 'h', 'tau*', label='B=100,h=3')\n",
    "g22 = hv.Curve((lh2, lts ), 'h', 'tau*', label='B=200,h=7')\n",
    "g3 = hv.Curve((lB, lh ), 'B', 'h', label='B=100,h=3' )\n",
    "g32 = hv.Curve((lB2, lh2), 'B', 'h' , label='B=200,h=7')\n",
    "\n",
    "ga = ( (g1*g12).opts(width=300, height=300, title='tau* vs B', logy=True, show_grid=True)\n",
    "      +(g2*g22).opts(width=300, height=300, title='tau* vs h', logy=True, show_grid=True, show_legend=False)\n",
    "      +(g3*g32).opts(width=300, height=300, title='h vs B', show_grid=True, show_legend=False)\n",
    "       ).cols(2)\n",
    "\n",
    "hv.save(ga, 'ts_vs_B_h.html')\n",
    "ga"
   ]
  },
  {
   "cell_type": "markdown",
   "id": "7e2fb829",
   "metadata": {},
   "source": [
    "<div style=\"width:600px;height:600px;\">\n",
    "<div style=\"width:632px;\">\n",
    "<iframe src=\"https://computational-sediment-hyd.github.io/bedload-river-width-correlation/ts_vs_B_h.html\"\n",
    " frameborder=\"0\"\n",
    " width=\"632\" height=\"632\"\n",
    " style=\"transform:scale(0.9); transform-origin: left top;\" allowfullscreen>\n",
    "</iframe></div></div>\n"
   ]
  },
  {
   "cell_type": "markdown",
   "id": "8a7b7126",
   "metadata": {},
   "source": [
    "## 川幅、水深、無次元掃流力と掃流砂量の関係\n",
    "\n",
    "### 式の導出\n",
    "\n",
    "掃流砂量式として、比較的簡単な式形を示すBrown式、MPM式を使用します。\n",
    "2式による無次元掃流砂量は以下のとおりです。\n",
    "\n",
    " - Brown式\n",
    "\n",
    "$$\n",
    "\\begin{align}\n",
    "q_{b*}= \\frac{q_b}{\\sqrt{\\rho_{sw} g d^3}}=10 \\tau_*^{\\frac{5}{2}}\n",
    "\\end{align}\n",
    "$$\n",
    "\n",
    " - MPM式\n",
    "\n",
    "$$\n",
    "\\begin{align}\n",
    "q_{b*}= \\frac{q_b}{\\sqrt{\\rho_{sw} g d^3}}=8 (\\tau_* - \\tau_{*c})^{\\frac{3}{2}}\n",
    "\\end{align}\n",
    "$$\n",
    "\n",
    "なお、MPM式の限界無次元掃流力$\\tau_{*c}$は0.05とします。\n",
    "\n",
    "これらを用いると横断面全体の掃流砂量は次式で定義できます。\n",
    "\n",
    "$$\n",
    "\\begin{align}\n",
    "Q_b &= B q_{b} = B \\sqrt{\\rho_{sw} g d^3}q_{b*}  \n",
    "\\end{align}\n",
    "$$\n",
    "\n",
    "本検討では粒径を定義していないため、掃流砂量を粒径で除した次式を基準掃流砂量とします。\n",
    "\n",
    "$$\n",
    "\\begin{align}\n",
    "\\dfrac{Q_b}{d^{1.5}}  &= B \\sqrt{\\rho_{sw} g}q_{b*}\n",
    "\\end{align}\n",
    "$$\n",
    "\n",
    "また、確認のため、単位幅形式でも示しておきます。\n",
    "\n",
    "$$\n",
    "\\begin{align}\n",
    "\\dfrac{q_b}{ d^{1.5}} &= \\dfrac{Q_b}{B d^{1.5}}  =  \\sqrt{\\rho_{sw} g}q_{b*}\n",
    "\\end{align}\n",
    "$$"
   ]
  },
  {
   "cell_type": "markdown",
   "id": "b740568c",
   "metadata": {},
   "source": [
    "### 計算結果\n"
   ]
  },
  {
   "cell_type": "code",
   "execution_count": null,
   "id": "69dc27f7",
   "metadata": {},
   "outputs": [],
   "source": [
    "tsc = 0.05\n",
    "qbs1 = np.sqrt(rhosw * g) *10.0 *  (lts)**(2.5)  #Brown Eq.\n",
    "qbs2 = np.sqrt(rhosw * g) *8.0 *  (lts-tsc)**(1.5) #MPM Eq.\n",
    "Qbs1 = qbs1 * lB #Brown Eq.\n",
    "Qbs2 = qbs2 * lB #MPM Eq."
   ]
  },
  {
   "cell_type": "markdown",
   "id": "8fded997",
   "metadata": {},
   "source": [
    "\n",
    "計算結果より、\n",
    "掃流砂量~川幅、\n",
    "掃流砂量~水深、\n",
    "川幅~水深\n",
    "の関係を次図に示します。\n",
    "\n",
    " - 基準掃流砂量は、\n",
    "掃流砂量式によって変化の傾向が異なりますが川幅に対して単調減少、水深に対して単調増加を示しています。\n",
    " - 無次元掃流力に対しても水深の関係と概ね同様ですが、Brown式は下に凸、MPM式は上に凸の形状を示しています。\n",
    " - 当然ですが、単位幅流砂量は無次元掃流力に対して単調増加です。\n",
    " - 本記事のテーマ「掃流砂量と川幅の関係について」は、「川幅の増加に対して流砂量は小さくなる」になります。\n",
    " - 一方で、掃流砂量式の形によって水理量と掃流砂量の関係が異なる点についても留意する必要があります。\n",
    "\n",
    "\n"
   ]
  },
  {
   "cell_type": "code",
   "execution_count": null,
   "id": "9d645147",
   "metadata": {},
   "outputs": [],
   "source": [
    "ga1 = hv.Curve((lts, Qbs1), 'tau*', 'Qb/d^1.5', label='Brown Eq.')\n",
    "ga2 = hv.Curve((lts, Qbs2), 'tau*', 'Qb/d^1.5', label='MPM Eq.')\n",
    "gb1 = hv.Curve((lB, Qbs1), 'B', 'Qb/d^1.5', label='Brown Eq.')\n",
    "gb2 = hv.Curve((lB, Qbs2), 'B', 'Qb/d^1.5', label='MPM Eq.')\n",
    "gc1 = hv.Curve((lh, Qbs1), 'h', 'Qb/d^1.5', label='Brown Eq.')\n",
    "gc2 = hv.Curve((lh, Qbs2), 'h', 'Qb/d^1.5', label='MPM Eq.')\n",
    "gd1 = hv.Curve((lts, qbs1), 'tau*', 'qb/d^1.5', label='Brown Eq.')\n",
    "gd2 = hv.Curve((lts, qbs2), 'tau*', 'qb/d^1.5', label='MPM Eq.')\n",
    "\n",
    "ga = ( (gb1*gb2).opts(width=300, height=300, title='Qb/d^1.5 vs B', show_grid=True, show_legend=False)\n",
    "      +(gc1*gc2).opts(width=300, height=300, title='Qb/d^1.5 vs h', show_grid=True, show_legend=True, legend_position='bottom_right')\n",
    "      +(ga1*ga2).opts(width=300, height=300, title='Qb/d^1.5 vs tau*', show_grid=True, show_legend=False,logx=True)\n",
    "      +(gd1*gd2).opts(width=300, height=300, title='qb/d^1.5 vs tau*', show_grid=True, show_legend=False,logx=True)\n",
    "      ).cols(2)\n",
    "\n",
    "hv.save(ga, 'Qb_vs_B_h.html')\n",
    "ga"
   ]
  },
  {
   "cell_type": "markdown",
   "id": "82325a0a",
   "metadata": {},
   "source": [
    "<div style=\"width:600px;height:600px;\">\n",
    "<div style=\"width:632px;\">\n",
    "<iframe src=\"https://computational-sediment-hyd.github.io/bedload-river-width-correlation/Qb_vs_B_h.html\"\n",
    " frameborder=\"0\"\n",
    " width=\"632\" height=\"632\"\n",
    " style=\"transform:scale(0.9); transform-origin: left top;\" allowfullscreen>\n",
    "</iframe></div></div>\n"
   ]
  },
  {
   "cell_type": "markdown",
   "id": "5b304a34",
   "metadata": {},
   "source": [
    "## おまけ：MPM式（1.5乗則）の奇妙な特性\n",
    "\n",
    "\n",
    "前述のMPM式において限界無次元掃流力がかなり小さい場合を想定して、限界無次元掃流力を0として同様の計算を行うと興味深い結果が得られます。計算結果は下図のとおりです。\n",
    "\n",
    " - 不思議なことに、基準掃流砂量は先程と全く逆の特性を示し、川幅に対して単調増加、水深、無次元掃流力に対して単調減少となります。\n",
    " - この結果は、他2式との比較により間違った結果と考えられます。\n",
    "\n",
    "この辺りの話は、掃流砂量式問題の本質だったりするので、私も上手く説明できないのですが、いくつも提案されている掃流砂量のいづれも不完全であることは言えると思います。\n"
   ]
  },
  {
   "cell_type": "markdown",
   "id": "888f14d7",
   "metadata": {},
   "source": [
    "\n",
    "アプローチ方法は少し異なりますが、同様の内容について以下の論文で議論されています。\n",
    "\n",
    "[On A Reasonable, Functional Form for Bed-Load Formulas : Egashira Shinji, Robin K.Biswas, Harada Daisuke and Miyaamoto Kuniaki](https://cmswebonline.com/iahr2022/epro/html/02-02-058-1438.xml)\n",
    "\n",
    "[39th IAHR World Congress](https://cmswebonline.com/iahr2022/epro/html/toc.html) 口頭発表\n",
    "\n",
    "\n",
    "掃流砂量式については面白い話がたくさんあるので（ニーズは無さ過ぎますが）、気が向いたら書こうかなと。\n",
    " - 掃流砂量式への粒径の影響\n",
    " - 有効掃流力について\n",
    " - 掃流砂量と浮遊砂量の関係\n",
    "...etc\n",
    "\n"
   ]
  },
  {
   "cell_type": "code",
   "execution_count": null,
   "id": "ddac8a8b",
   "metadata": {},
   "outputs": [],
   "source": [
    "qbs1 = np.sqrt(rhosw * g) *10.0 *  (lts)**(2.5)  #Brown Eq.\n",
    "tsc = 0.05\n",
    "qbs2 = np.sqrt(rhosw * g) *8.0 *  (lts-tsc)**(1.5) #MPM Eq.\n",
    "tsc = 0.0\n",
    "qbs2d = np.sqrt(rhosw * g) *8.0 *  (lts-tsc)**(1.5) #MPM Eq.\n",
    "\n",
    "Qbs1  = qbs1  *lB #Brown Eq.\n",
    "Qbs2  = qbs2  *lB #MPM Eq.\n",
    "Qbs2d = qbs2d *lB #MPM Eq."
   ]
  },
  {
   "cell_type": "code",
   "execution_count": null,
   "id": "150f3e4e",
   "metadata": {},
   "outputs": [],
   "source": [
    "ga1 = hv.Curve((lts, Qbs1), 'tau*', 'Qb/d^1.5', label='Brown Eq.')\n",
    "ga2 = hv.Curve((lts, Qbs2), 'tau*', 'Qb/d^1.5', label='MPM Eq.')\n",
    "ga2d = hv.Curve((lts, Qbs2d), 'tau*', 'Qb/d^1.5', label='MPM Eq(tau*=0).')\n",
    "gb1 = hv.Curve((lB, Qbs1), 'B', 'Qb/d^1.5', label='Brown Eq.')\n",
    "gb2 = hv.Curve((lB, Qbs2), 'B', 'Qb/d^1.5', label='MPM Eq.')\n",
    "gb2d = hv.Curve((lB, Qbs2d), 'B', 'Qb/d^1.5', label='MPM Eq(tau*=0).')\n",
    "gc1 = hv.Curve((lh, Qbs1), 'h', 'Qb/d^1.5', label='Brown Eq.')\n",
    "gc2 = hv.Curve((lh, Qbs2), 'h', 'Qb/d^1.5', label='MPM Eq.')\n",
    "gc2d = hv.Curve((lh, Qbs2d), 'h', 'Qb/d^1.5', label='MPM Eq(tau*=0).')\n",
    "gd1 = hv.Curve((lts, qbs1), 'tau*', 'qb/d^1.5', label='Brown Eq.')\n",
    "gd2 = hv.Curve((lts, qbs2), 'tau*', 'qb/d^1.5', label='MPM Eq.')\n",
    "gd2d = hv.Curve((lts, qbs2d), 'tau*', 'qb/d^1.5', label='MPM Eq(tau*=0).')\n",
    "\n",
    "ga = ((gb1*gb2*gb2d).opts(width=300, height=300, title='Qb/d^1.5 vs B', show_grid=True, show_legend=False)\n",
    "     +(gc1*gc2*gc2d).opts(width=300, height=300, title='Qb/d^1.5 vs h', show_grid=True, show_legend=False) \n",
    "     +(ga1*ga2*ga2d).opts(width=300, height=300, title='Qb/d^1.5 vs tau*', logx=True, show_grid=True, show_legend=False) \n",
    "     +(gd1*gd2*gd2d).opts(width=300, height=300, title='qb/d^1.5 vs tau*', logx=True, show_grid=True, show_legend=True, legend_position='top_left') \n",
    "       ).cols(2)\n",
    "\n",
    "hv.save(ga, 'Qb_vs_B_h_c02.html')\n",
    "ga"
   ]
  },
  {
   "cell_type": "markdown",
   "id": "197283fc",
   "metadata": {},
   "source": [
    "<div style=\"width:600px;height:600px;\">\n",
    "<div style=\"width:632px;\">\n",
    "<iframe src=\"https://computational-sediment-hyd.github.io/bedload-river-width-correlation/Qb_vs_B_h_c02.html\"\n",
    " frameborder=\"0\"\n",
    " width=\"632\" height=\"632\"\n",
    " style=\"transform:scale(0.9); transform-origin: left top;\" allowfullscreen>\n",
    "</iframe></div></div>\n"
   ]
  }
 ],
 "metadata": {
  "kernelspec": {
   "display_name": "py312",
   "language": "python",
   "name": "python3"
  },
  "language_info": {
   "codemirror_mode": {
    "name": "ipython",
    "version": 3
   },
   "file_extension": ".py",
   "mimetype": "text/x-python",
   "name": "python",
   "nbconvert_exporter": "python",
   "pygments_lexer": "ipython3",
   "version": "3.12.3"
  },
  "toc": {
   "base_numbering": 1,
   "nav_menu": {},
   "number_sections": true,
   "sideBar": true,
   "skip_h1_title": false,
   "title_cell": "Table of Contents",
   "title_sidebar": "Contents",
   "toc_cell": false,
   "toc_position": {},
   "toc_section_display": true,
   "toc_window_display": false
  }
 },
 "nbformat": 4,
 "nbformat_minor": 5
}
